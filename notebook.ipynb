{
 "cells": [
  {
   "cell_type": "code",
   "execution_count": null,
   "metadata": {
    "execution": {
     "iopub.execute_input": "2023-05-08T05:54:08.706540Z",
     "iopub.status.busy": "2023-05-08T05:54:08.705936Z",
     "iopub.status.idle": "2023-05-08T05:54:22.380195Z",
     "shell.execute_reply": "2023-05-08T05:54:22.379305Z",
     "shell.execute_reply.started": "2023-05-08T05:54:08.706513Z"
    },
    "id": "xcfoZfUUjgDR",
    "trusted": true
   },
   "outputs": [],
   "source": [
    "import torch\n",
    "import torch.nn as nn\n",
    "from tqdm.notebook import tqdm as tqdm\n",
    "from torch.autograd import Variable\n",
    "import os\n",
    "import matplotlib.pyplot as plt\n",
    "import seaborn as sns\n",
    "from torch.nn.functional import one_hot\n",
    "import numpy as np\n",
    "import pandas as pd\n",
    "import tqdm\n",
    "from tqdm.notebook import tqdm\n",
    "from tqdm.notebook import trange\n",
    "from torch.utils.data import TensorDataset, DataLoader\n",
    "from torch.utils.tensorboard import SummaryWriter\n",
    "from datetime import datetime as dt\n",
    "import torchvision\n",
    "import warnings\n",
    "import sklearn.metrics as metrics\n",
    "from imblearn.over_sampling import SMOTE\n",
    "from sklearn.model_selection import train_test_split\n",
    "from IPython.display import clear_output\n",
    "import time\n",
    "from torch.utils.data import TensorDataset, DataLoader\n",
    "from skimage.io import imread\n",
    "from skimage.transform import resize\n",
    "from skimage.color import gray2rgb\n",
    "from skimage.color import rgba2rgb\n",
    "from skimage.color import rgb2gray\n",
    "from torch.utils.data import WeightedRandomSampler\n",
    "import os\n",
    "import torch\n",
    "import matplotlib.pyplot as plt\n",
    "import numpy as np\n",
    "import torchvision\n",
    "from PIL import Image\n",
    "warnings.filterwarnings(\"ignore\")"
   ]
  },
  {
   "cell_type": "code",
   "execution_count": null,
   "metadata": {
    "execution": {
     "iopub.execute_input": "2023-05-08T05:54:28.415889Z",
     "iopub.status.busy": "2023-05-08T05:54:28.415233Z",
     "iopub.status.idle": "2023-05-08T05:54:39.276682Z",
     "shell.execute_reply": "2023-05-08T05:54:39.275289Z",
     "shell.execute_reply.started": "2023-05-08T05:54:28.415860Z"
    },
    "trusted": true
   },
   "outputs": [],
   "source": [
    "!pip install gdown"
   ]
  },
  {
   "cell_type": "code",
   "execution_count": null,
   "metadata": {
    "colab": {
     "base_uri": "https://localhost:8080/"
    },
    "execution": {
     "iopub.execute_input": "2023-05-08T05:54:48.893174Z",
     "iopub.status.busy": "2023-05-08T05:54:48.892773Z"
    },
    "id": "Bo8qjagSXnFA",
    "outputId": "07b6654e-6682-42ee-920a-26d29f4d8b8a",
    "scrolled": true,
    "trusted": true
   },
   "outputs": [],
   "source": [
    "!gdown https://drive.google.com/uc?id=1zBEGAP4lCkPBgV7gZePrFGWWTARuXBJD\n",
    "!gdown https://drive.google.com/uc?id=1kA270AM9_B9snMag4SOsZMvg4syus_EO\n",
    "!gdown https://drive.google.com/uc?id=1j3VHBoKpNLM-CnNWR2fu5-LZzqN7PDsh\n",
    "!gdown https://drive.google.com/uc?id=1NfmD1UmEOu5Xzf9CwBRMvsg_1EadFcVt\n",
    "!gdown https://drive.google.com/uc?id=1vWiWrbtConePYPmQatVG8MVx9t7yENhq\n",
    "!rm -r ~/.kaggle\n",
    "!mkdir ~/.kaggle\n",
    "!mv ./kaggle.json ~/.kaggle/\n",
    "!chmod 600 ~/.kaggle/kaggle.json\n",
    "!kaggle datasets download jtiptj/chest-xray-pneumoniacovid19tuberculosis --force\n",
    "!unzip -n chest-xray-pneumoniacovid19tuberculosis\n",
    "!unzip -n test-20230507T121545Z-001.zip\n",
    "!unzip -n valid-20230507T121239Z-001.zip\n",
    "!unzip -n train1.zip\n",
    "!unzip -n train2.zip\n"
   ]
  },
  {
   "cell_type": "code",
   "execution_count": null,
   "metadata": {
    "execution": {
     "iopub.status.busy": "2023-05-08T00:24:14.501932Z",
     "iopub.status.idle": "2023-05-08T00:24:14.502412Z",
     "shell.execute_reply": "2023-05-08T00:24:14.502181Z",
     "shell.execute_reply.started": "2023-05-08T00:24:14.502158Z"
    },
    "id": "HEz7zoX0Zz1l",
    "trusted": true
   },
   "outputs": [],
   "source": [
    "class Classes_Dataset(TensorDataset):\n",
    "  def __init__(self, folder_path, orig_path, size = (224,224),  start_idx=None, end_idx=None, return_tensor=True):\n",
    "    self.folder_path = folder_path.replace(\"content\", \"kaggle/working\")\n",
    "    self.orig_path = orig_path.replace(\"content\", \"kaggle/working\")\n",
    "    self.normal_path = os.path.join(self.orig_path, 'NORMAL')\n",
    "    self.tub_path = os.path.join(self.orig_path, 'TURBERCULOSIS')\n",
    "    self.pneumo_path = os.path.join(self.orig_path, 'PNEUMONIA')\n",
    "    self.covid_path = os.path.join(self.orig_path,'COVID19')\n",
    "    self.normal_imgs_len = len(os.listdir(self.normal_path))\n",
    "    self.tub_imgs_len = len(os.listdir(self.tub_path))\n",
    "    self.pneumo_imgs_len = len(os.listdir(self.pneumo_path))\n",
    "    self.covid_imgs_len = len(os.listdir(self.covid_path))\n",
    "    self.exist = []\n",
    "    \n",
    "  \n",
    "  def __getitem__(self, idx):\n",
    "    img = torch.load(os.path.join(self.folder_path, 'tensor' + str(idx) + '.pt'))\n",
    "    label = torch.tensor([0, 0, 0, 0])\n",
    "    if idx < self.normal_imgs_len:\n",
    "      label[0] = 1\n",
    "    elif idx < self.tub_imgs_len + self.normal_imgs_len:\n",
    "      label[1] = 1\n",
    "    elif idx < self.pneumo_imgs_len + self.tub_imgs_len + self.normal_imgs_len:\n",
    "      label[2] = 1\n",
    "    elif idx < self.covid_imgs_len + self.pneumo_imgs_len + self.tub_imgs_len + self.normal_imgs_len:\n",
    "      label[3] = 1\n",
    "    return img, label\n",
    "\n",
    "\n",
    "  def __len__(self):\n",
    "    return self.covid_imgs_len + self.pneumo_imgs_len + self.tub_imgs_len + self.normal_imgs_len\n",
    "    \n",
    "  def get_label(self, idx):\n",
    "    label = torch.tensor([0, 0, 0, 0])\n",
    "    if idx < self.normal_imgs_len:\n",
    "      label[0] = 1\n",
    "    elif idx < self.tub_imgs_len + self.normal_imgs_len:\n",
    "      label[1] = 1\n",
    "    elif idx < self.pneumo_imgs_len + self.tub_imgs_len + self.normal_imgs_len:\n",
    "      label[2] = 1\n",
    "    elif idx < self.covid_imgs_len + self.pneumo_imgs_len + self.tub_imgs_len + self.normal_imgs_len:\n",
    "      label[3] = 1\n",
    "    return label"
   ]
  },
  {
   "cell_type": "code",
   "execution_count": null,
   "metadata": {
    "execution": {
     "iopub.execute_input": "2023-05-08T00:08:53.698351Z",
     "iopub.status.busy": "2023-05-08T00:08:53.698005Z",
     "iopub.status.idle": "2023-05-08T00:08:53.717736Z",
     "shell.execute_reply": "2023-05-08T00:08:53.716857Z",
     "shell.execute_reply.started": "2023-05-08T00:08:53.698322Z"
    },
    "trusted": true
   },
   "outputs": [],
   "source": [
    "class Classes_Dataset1(TensorDataset):\n",
    "  def __init__(self, folder_path, size = (224,224),  start_idx=None, end_idx=None, return_tensor=True):\n",
    "    print(folder_path, size)\n",
    "    self.folder_path = folder_path#.replace(\"content\", \"kaggle/working\")\n",
    "    self.size = size\n",
    "    \n",
    "    self.normal_path = os.path.join(self.folder_path, 'NORMAL')\n",
    "    self.tub_path = os.path.join(self.folder_path, 'TURBERCULOSIS')\n",
    "    self.pneumo_path = os.path.join(self.folder_path, 'PNEUMONIA')\n",
    "    self.covid_path = os.path.join(self.folder_path,'COVID19')\n",
    "    self.normal_imgs_len = len(os.listdir(self.normal_path))\n",
    "    self.tub_imgs_len = len(os.listdir(self.tub_path))\n",
    "    self.pneumo_imgs_len = len(os.listdir(self.pneumo_path))\n",
    "    self.covid_imgs_len = len(os.listdir(self.covid_path))\n",
    "    self.exist_images_names = [\n",
    "        img_folder\n",
    "        for img_folder in os.listdir(self.normal_path)\n",
    "    ]\n",
    "\n",
    "    self.exist_images_names += [\n",
    "        img_folder\n",
    "        for img_folder in os.listdir(self.tub_path)\n",
    "    ]\n",
    "\n",
    "    self.exist_images_names += [\n",
    "        img_folder\n",
    "        for img_folder in os.listdir(self.pneumo_path)\n",
    "    ]\n",
    "\n",
    "    self.exist_images_names += [\n",
    "        img_folder\n",
    "        for img_folder in os.listdir(self.covid_path)\n",
    "    ]\n",
    "\n",
    "    self.return_tensor = return_tensor\n",
    "  \n",
    "  def __getitem__(self, idx):\n",
    "    label = 0\n",
    "    if idx < self.normal_imgs_len:\n",
    "      idx_name = self.exist_images_names[idx]\n",
    "      idx_folder_path = os.path.join(self.normal_path, idx_name)\n",
    "      label = torch.tensor([1,0,0,0])\n",
    "    elif idx < self.tub_imgs_len + self.normal_imgs_len:\n",
    "      idx_name = self.exist_images_names[idx]\n",
    "      idx_folder_path = os.path.join(self.tub_path, idx_name)\n",
    "      label = torch.tensor([0,1,0,0])\n",
    "    elif idx < self.pneumo_imgs_len + self.tub_imgs_len + self.normal_imgs_len:\n",
    "      idx_name = self.exist_images_names[idx]\n",
    "      idx_folder_path = os.path.join(self.pneumo_path, idx_name)\n",
    "      label = torch.tensor([0,0,1,0])\n",
    "    elif idx < self.covid_imgs_len + self.pneumo_imgs_len + self.tub_imgs_len + self.normal_imgs_len:\n",
    "      idx_name = self.exist_images_names[idx]\n",
    "      idx_folder_path = os.path.join(self.covid_path, idx_name)\n",
    "      label = torch.tensor([0,0,0,1])\n",
    "\n",
    "    image_obj = imread(idx_folder_path)\n",
    "    if(len(image_obj.shape) == 3 and image_obj.shape[-1] == 4):\n",
    "      image_obj = rgba2rgb(image_obj)\n",
    "    if(len(image_obj.shape) == 3):\n",
    "      image_obj = rgb2gray(image_obj)\n",
    "    image_obj = gray2rgb(image_obj)\n",
    "    if not self.return_tensor:\n",
    "      return image_obj, label\n",
    "    else:\n",
    "      transform = torchvision.transforms.Compose(\n",
    "    [torchvision.transforms.Normalize((0.485, 0.456, 0.406), (0.229, 0.224, 0.225)),\n",
    "     ])\n",
    "      image_obj = resize(image_obj, self.size, mode='constant', anti_aliasing=True,)\n",
    "      return torch.transpose(torch.transpose(torch.from_numpy(image_obj), 0, 2), 1,2), label\n",
    "\n",
    "  def __len__(self):\n",
    "    return len(self.exist_images_names)"
   ]
  },
  {
   "cell_type": "code",
   "execution_count": null,
   "metadata": {
    "execution": {
     "iopub.status.busy": "2023-05-08T00:24:14.503651Z",
     "iopub.status.idle": "2023-05-08T00:24:14.504610Z",
     "shell.execute_reply": "2023-05-08T00:24:14.504381Z",
     "shell.execute_reply.started": "2023-05-08T00:24:14.504356Z"
    },
    "id": "_wcxdgKCjIi1",
    "trusted": true
   },
   "outputs": [],
   "source": [
    "def imshow(img):\n",
    "    plt.imshow(img.permute(1, 2, 0))\n",
    "    plt.show()"
   ]
  },
  {
   "cell_type": "code",
   "execution_count": null,
   "metadata": {
    "colab": {
     "base_uri": "https://localhost:8080/",
     "height": 208
    },
    "execution": {
     "iopub.status.busy": "2023-05-08T00:24:14.506149Z",
     "iopub.status.idle": "2023-05-08T00:24:14.506997Z",
     "shell.execute_reply": "2023-05-08T00:24:14.506758Z",
     "shell.execute_reply.started": "2023-05-08T00:24:14.506735Z"
    },
    "id": "9DYpwAD0eIju",
    "outputId": "624d2baf-3ac0-418e-f110-30de98398763",
    "trusted": true
   },
   "outputs": [],
   "source": [
    "train_dataset = Classes_Dataset('/content/train', '/content/train', (224,224))\n",
    "valid_dataset = Classes_Dataset('/content/valid','/content/val', (224,224))\n",
    "test_dataset = Classes_Dataset('/content/test', '/content/test', (224,224))\n",
    "\n",
    "BATCH_SIZE = 16\n",
    "LR = 0.001\n",
    "VALID_PART=0.15\n",
    "TRAIN_PART =0.75\n",
    "MODEL_NAME = 'ChestModel_v1'\n",
    "THRESHOLD = 0.5\n",
    "\n",
    "train_weights = []\n",
    "for i in range(len(train_dataset)):\n",
    "    if train_dataset.get_label(i)[0]:\n",
    "        train_weights.append(0.17)\n",
    "    elif train_dataset.get_label(i)[1]:\n",
    "        train_weights.append(0.29)\n",
    "    elif train_dataset.get_label(i)[2]:\n",
    "        train_weights.append(0.05)\n",
    "    elif train_dataset.get_label(i)[3]:\n",
    "        train_weights.append(0.5)\n",
    "\n",
    "weighted_sampler = WeightedRandomSampler(\n",
    "    weights=train_weights,\n",
    "    num_samples=6000,\n",
    "    replacement=True\n",
    ")\n",
    "\n",
    "\n",
    "os.makedirs(MODEL_NAME, exist_ok=True)\n",
    "\n",
    "start_time_str = dt.now().strftime('%Y%m%d_%H%M%S')\n",
    "\n",
    "tb_writer = SummaryWriter(f'runs/{MODEL_NAME}_{start_time_str}')\n",
    "\n",
    "train_dataloader = DataLoader(train_dataset, batch_size=BATCH_SIZE, sampler=weighted_sampler)\n",
    "valid_dataloader = DataLoader(valid_dataset, batch_size=BATCH_SIZE, shuffle=False)\n",
    "test_dataloader = DataLoader(test_dataset, batch_size=BATCH_SIZE, shuffle=False)\n",
    "\n",
    "for images, labels in train_dataloader:\n",
    "  print(labels)\n",
    "  imshow(torchvision.utils.make_grid(images))\n",
    "  break"
   ]
  },
  {
   "cell_type": "code",
   "execution_count": null,
   "metadata": {
    "execution": {
     "iopub.status.busy": "2023-05-08T00:24:14.508666Z",
     "iopub.status.idle": "2023-05-08T00:24:14.509746Z",
     "shell.execute_reply": "2023-05-08T00:24:14.509524Z",
     "shell.execute_reply.started": "2023-05-08T00:24:14.509501Z"
    },
    "id": "pd0g84JZfCrZ",
    "trusted": true
   },
   "outputs": [],
   "source": [
    "def imshow(img):\n",
    "    plt.imshow(img.permute(1, 2, 0))\n",
    "    plt.show()"
   ]
  },
  {
   "cell_type": "code",
   "execution_count": null,
   "metadata": {
    "trusted": true
   },
   "outputs": [],
   "source": [
    "resnet50 = torch.hub.load('NVIDIA/DeepLearningExamples:torchhub', 'nvidia_efficientnet_b0', pretrained=True)\n",
    "resnet50.eval()\n",
    "model=resnet50"
   ]
  },
  {
   "cell_type": "code",
   "execution_count": null,
   "metadata": {
    "trusted": true
   },
   "outputs": [],
   "source": [
    "model.eval()"
   ]
  },
  {
   "cell_type": "code",
   "execution_count": null,
   "metadata": {
    "execution": {
     "iopub.status.busy": "2023-05-08T00:24:14.513480Z",
     "iopub.status.idle": "2023-05-08T00:24:14.514389Z",
     "shell.execute_reply": "2023-05-08T00:24:14.514145Z",
     "shell.execute_reply.started": "2023-05-08T00:24:14.514123Z"
    },
    "trusted": true
   },
   "outputs": [],
   "source": [
    "device = torch.device(\"cuda\" if torch.cuda.is_available() else \"cpu\")\n",
    "device"
   ]
  },
  {
   "cell_type": "code",
   "execution_count": null,
   "metadata": {
    "colab": {
     "base_uri": "https://localhost:8080/"
    },
    "id": "bIFT33Brjxfy",
    "outputId": "e911a1fd-1715-4e9b-dda0-8e0b4ecd31b2",
    "trusted": true
   },
   "outputs": [],
   "source": [
    "model = model.double()\n",
    "model = model.to(device)\n",
    "model"
   ]
  },
  {
   "cell_type": "code",
   "execution_count": null,
   "metadata": {
    "trusted": true
   },
   "outputs": [],
   "source": [
    "model.classifier.fc = nn.Sequential(\n",
    "    nn.AvgPool2d()\n",
    ")\n",
    "# for p in model.layers[:-3]:\n",
    "#     p.requires_grad = False\n",
    "\n",
    "# for p in model.layers[-3:]:\n",
    "#     p.requires_grad = True\n",
    "\n",
    "# for p in model.fc.parameters():\n",
    "#     p.requires_grad = True"
   ]
  },
  {
   "cell_type": "code",
   "execution_count": null,
   "metadata": {
    "execution": {
     "iopub.status.busy": "2023-05-08T00:24:14.511093Z",
     "iopub.status.idle": "2023-05-08T00:24:14.512183Z",
     "shell.execute_reply": "2023-05-08T00:24:14.511962Z",
     "shell.execute_reply.started": "2023-05-08T00:24:14.511938Z"
    },
    "trusted": true
   },
   "outputs": [],
   "source": [
    "import json\n",
    "from tqdm.notebook import tqdm as tqdm_notebook"
   ]
  },
  {
   "cell_type": "code",
   "execution_count": null,
   "metadata": {
    "execution": {
     "iopub.status.busy": "2023-05-08T00:24:14.516045Z",
     "iopub.status.idle": "2023-05-08T00:24:14.517109Z",
     "shell.execute_reply": "2023-05-08T00:24:14.516894Z",
     "shell.execute_reply.started": "2023-05-08T00:24:14.516871Z"
    },
    "trusted": true
   },
   "outputs": [],
   "source": [
    "def train(model, train_dataloader, val_dataloader, optimizer, loss_fn, tb_writer, epochs, plot_every = 10, best = 0, save_all = True):\n",
    "    losses = []\n",
    "    train_scores = {}\n",
    "    val_scores = {}\n",
    "    for epoch in trange(epochs):\n",
    "        print(f\"Epoch {epoch + 1}/{epochs}:\")\n",
    "        train_res = train_one_epoch(model, train_dataloader, optimizer, loss_fn, epoch, tb_writer, plot_every)\n",
    "        for k, v in train_res.items():\n",
    "            if train_scores.get(k) is None: train_scores[k] = np.array([])\n",
    "            train_scores[k] = np.append(train_scores[k], v)\n",
    "        val_res = val_one_time(model, val_dataloader, loss_fn, epoch)\n",
    "        for k, v in val_res.items():\n",
    "            if val_scores.get(k) is None: val_scores[k] = np.array([])\n",
    "            val_scores[k] = np.append(val_scores[k], v)\n",
    "        plt.figure(figsize=(25, 5))\n",
    "        for i, (k, v) in enumerate(val_scores.items()):\n",
    "            plt.subplot(1, len(val_scores.keys()), i+1)\n",
    "            plt.plot(np.arange(1, epoch+2), train_scores[k], color='blue', label='Train')\n",
    "            plt.plot(np.arange(1, epoch+2), val_scores[k], color='orange', label='Val')\n",
    "            plt.title(k)\n",
    "            plt.ylabel(k)\n",
    "            plt.xlabel(\"epochs\")\n",
    "            plt.legend()\n",
    "        plt.savefig(os.path.join(MODEL_NAME, f\"Results_{start_time_str}\"))\n",
    "        plt.show()\n",
    "        print(f\"train: {make_res_pretty(train_res)}\\nval: {make_res_pretty(val_res)}\")\n",
    "        if val_res[\"recall_macro\"] > best or save_all:\n",
    "            best = val_res[\"recall_macro\"]\n",
    "            folder_path = os.path.join(MODEL_NAME, f'Model_{epoch + 1}_{start_time_str}')\n",
    "            os.makedirs(folder_path, exist_ok=True)\n",
    "            model_path = os.path.join(folder_path, f'model_{epoch + 1}_{start_time_str}')\n",
    "            torch.save(model.cpu().state_dict(), model_path)\n",
    "            with open(os.path.join(folder_path, f'modelResults_{epoch + 1}_{start_time_str}.json'), \"w\") as file:\n",
    "                json.dump({\"train\": train_res, \"val\": val_res}, file)\n",
    "            print(\"MODEL SAVED!\")\n",
    "    return val_res['accuracy'], best"
   ]
  },
  {
   "cell_type": "code",
   "execution_count": null,
   "metadata": {
    "execution": {
     "iopub.status.busy": "2023-05-08T00:24:14.518343Z",
     "iopub.status.idle": "2023-05-08T00:24:14.519420Z",
     "shell.execute_reply": "2023-05-08T00:24:14.519174Z",
     "shell.execute_reply.started": "2023-05-08T00:24:14.519150Z"
    },
    "trusted": true
   },
   "outputs": [],
   "source": [
    "def make_res_pretty(res):\n",
    "    return '; '.join([f'{k}: {v:.10%}' if k != \"avg_loss\" else f'{k}: {v}' for k, v in res.items()])"
   ]
  },
  {
   "cell_type": "code",
   "execution_count": null,
   "metadata": {
    "execution": {
     "iopub.status.busy": "2023-05-08T00:24:14.520715Z",
     "iopub.status.idle": "2023-05-08T00:24:14.521360Z",
     "shell.execute_reply": "2023-05-08T00:24:14.521118Z",
     "shell.execute_reply.started": "2023-05-08T00:24:14.521095Z"
    },
    "trusted": true
   },
   "outputs": [],
   "source": [
    "def train_one_epoch(model, train_dataloader, optimizer, loss_fn, epoch_num, tb_writer, plot_every):\n",
    "    model.train(True)\n",
    "    current_loss = 0\n",
    "    losses = preds = ytrue = np.array([])\n",
    "    ind = 0\n",
    "    model = model.to(device)\n",
    "    for data, labels in tqdm_notebook(train_dataloader):\n",
    "        data = data.to(device)\n",
    "        labels = labels.to(device)\n",
    "\n",
    "        optimizer.zero_grad()\n",
    "\n",
    "        yhat = model.forward(data)\n",
    "        preds = np.append(preds, np.argmax(yhat.cpu().detach().numpy(), axis=1))\n",
    "        ytrue = np.append(ytrue, np.argmax(labels.cpu().numpy(), axis=1))\n",
    "\n",
    "        labels=labels.double()\n",
    "\n",
    "        loss = loss_fn(yhat, labels)\n",
    "\n",
    "        loss.backward()\n",
    "\n",
    "        optimizer.step()\n",
    "\n",
    "        current_loss += loss.item()\n",
    "        losses = np.append(losses, loss.item())\n",
    "\n",
    "        if ind % plot_every == 0:\n",
    "            tb_x = epoch_num * len(train_dataloader) + ind + 1\n",
    "\n",
    "            tb_writer.add_scalar('Loss/train', loss.item(), tb_x)\n",
    "        ind += 1\n",
    "\n",
    "    model.train(False)\n",
    "    print(preds.shape)\n",
    "    #preds = np.argmax(preds, axis=1)\n",
    "    sick = len(preds != 0)\n",
    "    return  {\"avg_loss\": current_loss / len(train_dataloader), \"accuracy\": metrics.accuracy_score(ytrue, preds), \n",
    "    \"f1_micro\": metrics.f1_score(ytrue, preds, average=\"micro\"), \"f1_macro\": metrics.f1_score(ytrue, preds, average=\"macro\"), \n",
    "    \"precision_micro\": metrics.precision_score(ytrue, preds, average=\"micro\"), \"precision_macro\": metrics.precision_score(ytrue, preds, average=\"macro\"),\n",
    "    \"recall_micro\": metrics.recall_score(ytrue, preds, average=\"micro\"), \"recall_macro\": metrics.recall_score(ytrue, preds, average=\"macro\"),\n",
    "    \"ill score\": sick / len(train_dataloader)}"
   ]
  },
  {
   "cell_type": "code",
   "execution_count": null,
   "metadata": {
    "execution": {
     "iopub.status.busy": "2023-05-08T00:24:14.522855Z",
     "iopub.status.idle": "2023-05-08T00:24:14.523798Z",
     "shell.execute_reply": "2023-05-08T00:24:14.523569Z",
     "shell.execute_reply.started": "2023-05-08T00:24:14.523544Z"
    },
    "trusted": true
   },
   "outputs": [],
   "source": [
    "def val_one_time(model, valid_dataloader, loss_fn, epoch_number):\n",
    "    model.eval()  # testing mode\n",
    "    avg_loss = 0\n",
    "    preds = ytrue = np.array([])\n",
    "    model = model.to(device)\n",
    "    with torch.no_grad():\n",
    "        for X_val, Y_val in tqdm_notebook(valid_dataloader):\n",
    "            print(1)\n",
    "            Y_val = Y_val.to(device)\n",
    "            X_val = X_val.to(device)\n",
    "\n",
    "            yhat = model.forward(X_val)\n",
    "\n",
    "            preds = np.append(preds, np.argmax(yhat.cpu().detach().numpy(), axis=1))\n",
    "            ytrue = np.append(ytrue, np.argmax(Y_val.cpu().numpy(), axis=1))\n",
    "\n",
    "\n",
    "            Y_val = Y_val.double()\n",
    "\n",
    "            avg_loss += loss_fn(yhat, Y_val).item()\n",
    "\n",
    "    sick = len(preds != 0)\n",
    "    tb_writer.add_scalar('Loss/valid', avg_loss / len(valid_dataloader), epoch_number)\n",
    "    return {\"avg_loss\": avg_loss / len(valid_dataloader), \"accuracy\": metrics.accuracy_score(ytrue, preds), \n",
    "    \"f1_micro\": metrics.f1_score(ytrue, preds, average=\"micro\"), \"f1_macro\": metrics.f1_score(ytrue, preds, average=\"macro\"), \n",
    "    \"precision_micro\": metrics.precision_score(ytrue, preds, average=\"micro\"), \"precision_macro\": metrics.precision_score(ytrue, preds, average=\"macro\"),\n",
    "    \"recall_micro\": metrics.recall_score(ytrue, preds, average=\"micro\"), \"recall_macro\": metrics.recall_score(ytrue, preds, average=\"macro\"),\n",
    "    \"ill score\": sick / len(valid_dataloader)}"
   ]
  },
  {
   "cell_type": "code",
   "execution_count": null,
   "metadata": {
    "trusted": true
   },
   "outputs": [],
   "source": [
    "max_epochs = 10\n",
    "bcelosses, bcescore = train(\n",
    "    model, train_dataloader, valid_dataloader,\n",
    "    optimizer, loss_fn, tb_writer, max_epochs)"
   ]
  },
  {
   "cell_type": "code",
   "execution_count": null,
   "metadata": {
    "trusted": true
   },
   "outputs": [],
   "source": [
    "os.listdir(r'/kaggle/working/ChestModel_v1/Model_3_20230507_152046')"
   ]
  },
  {
   "cell_type": "code",
   "execution_count": null,
   "metadata": {
    "trusted": true
   },
   "outputs": [],
   "source": [
    "os.chdir(r'/kaggle/working/')\n",
    "\n",
    "!tar -czf model_3_20230507_152046 'ChestModel_v1/Model_3_20230507_152046'\n",
    "\n",
    "from IPython.display import FileLink \n",
    "\n",
    "FileLink(r'model_3_20230507_152046')"
   ]
  },
  {
   "cell_type": "code",
   "execution_count": null,
   "metadata": {
    "trusted": true
   },
   "outputs": [],
   "source": [
    "!zip -r model_3_20230507_152046.zip r'/kaggle/working/ChestModel_v1/Model_3_20230507_152046'"
   ]
  },
  {
   "cell_type": "code",
   "execution_count": null,
   "metadata": {
    "trusted": true
   },
   "outputs": [],
   "source": [
    "!zip -r model_3_20230507_152046.zip . -i r/kaggle/working/ChestModel_v1/Model_3_20230507_152046"
   ]
  },
  {
   "cell_type": "code",
   "execution_count": null,
   "metadata": {
    "colab": {
     "base_uri": "https://localhost:8080/",
     "height": 396,
     "referenced_widgets": [
      "2e065d66e19d486e9f7add9c5ec8355f",
      "0efa51b6116246fcb2c602adb3bc76fa",
      "750b4cc7c4934f128247890648a749ac",
      "8d66df875fe04dcda0f21cf0c8957e6b",
      "cb371fa307d143ec8af97156c0152418",
      "96d35b1981ab403788051caf4988c8ca",
      "b33bde1a46304ec591defba212ce0ae5",
      "24da9304d86c4070a54d0e6f60efeb70",
      "1acc083c61e94ad58ace5c31628f2842",
      "d1e41621932143559536f050068629fc",
      "979a773a7d9346ae8b32ac6db417ec4e",
      "e683ef3fb32a42599d64766a19b32372",
      "79f14161d5d74268bc19b302c8150839",
      "de5b55620e8a47f7b972bc5ea6181e86",
      "d01311091a2b4405b1ec85fc6dac0338",
      "f69452a8f3da4da6943a561ceb3e6728",
      "eb070581512343d393e9b14ddac391ed",
      "b62cc980ab8b485898e33977975c1e69",
      "db42e61d77e34cd688cdcb32a4cd19a5",
      "ba41922a2e7a4e44b26634fc8730b065",
      "ef3f7f8df55b49deb62532afe39ccb40",
      "a0d4efd2c8a14cb3baf4fbdbed6a3527"
     ]
    },
    "id": "CF9oQRnxnlLE",
    "outputId": "5e7245a1-779d-4a24-f812-ac75161668de",
    "trusted": true
   },
   "outputs": [],
   "source": [
    "train(model, loss_fn, optimizer, n_epoch=10, device=device)"
   ]
  },
  {
   "cell_type": "code",
   "execution_count": null,
   "metadata": {
    "colab": {
     "base_uri": "https://localhost:8080/"
    },
    "id": "03CRAvZdlP57",
    "outputId": "ca1362c6-24f6-46ce-9436-7d0c05cd76f8",
    "trusted": true
   },
   "outputs": [],
   "source": [
    "model.to(torch.device('cpu'))"
   ]
  },
  {
   "cell_type": "code",
   "execution_count": null,
   "metadata": {
    "colab": {
     "base_uri": "https://localhost:8080/"
    },
    "id": "REZuaO9ckyoh",
    "outputId": "8ed15a79-89d1-4a73-aa75-bec6dffb5e88",
    "trusted": true
   },
   "outputs": [],
   "source": [
    "from google.colab import drive\n",
    "drive.mount('/content/drive')"
   ]
  },
  {
   "cell_type": "code",
   "execution_count": null,
   "metadata": {
    "id": "hylcWvEpk5z6",
    "trusted": true
   },
   "outputs": [],
   "source": [
    "torch.save(model.state_dict(), 'content')"
   ]
  },
  {
   "cell_type": "code",
   "execution_count": null,
   "metadata": {
    "execution": {
     "iopub.status.busy": "2023-05-08T00:24:14.533239Z",
     "iopub.status.idle": "2023-05-08T00:24:14.533772Z",
     "shell.execute_reply": "2023-05-08T00:24:14.533560Z",
     "shell.execute_reply.started": "2023-05-08T00:24:14.533538Z"
    },
    "trusted": true
   },
   "outputs": [],
   "source": [
    "model = torch.hub.load('NVIDIA/DeepLearningExamples:torchhub', 'nvidia_efficientnet_b4', pretrained=True)#model = resnet50(pretrained=True)]\n"
   ]
  },
  {
   "cell_type": "code",
   "execution_count": null,
   "metadata": {
    "execution": {
     "iopub.status.busy": "2023-05-08T00:24:14.535631Z",
     "iopub.status.idle": "2023-05-08T00:24:14.536129Z",
     "shell.execute_reply": "2023-05-08T00:24:14.535905Z",
     "shell.execute_reply.started": "2023-05-08T00:24:14.535882Z"
    },
    "trusted": true
   },
   "outputs": [],
   "source": [
    "model"
   ]
  },
  {
   "cell_type": "code",
   "execution_count": null,
   "metadata": {
    "execution": {
     "iopub.status.busy": "2023-05-08T00:24:14.540813Z",
     "iopub.status.idle": "2023-05-08T00:24:14.541970Z",
     "shell.execute_reply": "2023-05-08T00:24:14.541721Z",
     "shell.execute_reply.started": "2023-05-08T00:24:14.541696Z"
    },
    "trusted": true
   },
   "outputs": [],
   "source": [
    "model.fc=nn.Sequential(\n",
    "    nn.Dropout(0.3),\n",
    "    nn.Linear(2048, 4),\n",
    "    nn.Softmax()\n",
    ")"
   ]
  },
  {
   "cell_type": "code",
   "execution_count": null,
   "metadata": {
    "execution": {
     "iopub.status.busy": "2023-05-08T00:24:14.543312Z",
     "iopub.status.idle": "2023-05-08T00:24:14.544137Z",
     "shell.execute_reply": "2023-05-08T00:24:14.543903Z",
     "shell.execute_reply.started": "2023-05-08T00:24:14.543880Z"
    },
    "trusted": true
   },
   "outputs": [],
   "source": [
    "model = model.double()\n",
    "model = model.eval()"
   ]
  },
  {
   "cell_type": "code",
   "execution_count": null,
   "metadata": {
    "execution": {
     "iopub.status.busy": "2023-05-08T00:24:14.548351Z",
     "iopub.status.idle": "2023-05-08T00:24:14.548814Z",
     "shell.execute_reply": "2023-05-08T00:24:14.548593Z",
     "shell.execute_reply.started": "2023-05-08T00:24:14.548571Z"
    },
    "trusted": true
   },
   "outputs": [],
   "source": [
    "state_dict = torch.load(\"/kaggle/working/Efficientnet_b4_model_8_20230507_181213\", map_location=torch.device('cpu'))\n"
   ]
  },
  {
   "cell_type": "code",
   "execution_count": null,
   "metadata": {
    "execution": {
     "iopub.status.busy": "2023-05-08T00:24:14.537991Z",
     "iopub.status.idle": "2023-05-08T00:24:14.538493Z",
     "shell.execute_reply": "2023-05-08T00:24:14.538269Z",
     "shell.execute_reply.started": "2023-05-08T00:24:14.538244Z"
    },
    "trusted": true
   },
   "outputs": [],
   "source": [
    "model.load_state_dict(state_dict)\n",
    "model = model.eval()"
   ]
  },
  {
   "cell_type": "code",
   "execution_count": null,
   "metadata": {
    "execution": {
     "iopub.execute_input": "2023-05-08T00:18:28.867003Z",
     "iopub.status.busy": "2023-05-08T00:18:28.866603Z",
     "iopub.status.idle": "2023-05-08T00:18:28.874118Z",
     "shell.execute_reply": "2023-05-08T00:18:28.873158Z",
     "shell.execute_reply.started": "2023-05-08T00:18:28.866969Z"
    },
    "trusted": true
   },
   "outputs": [],
   "source": [
    "device"
   ]
  },
  {
   "cell_type": "code",
   "execution_count": null,
   "metadata": {
    "execution": {
     "iopub.execute_input": "2023-05-08T00:20:11.585893Z",
     "iopub.status.busy": "2023-05-08T00:20:11.585525Z",
     "iopub.status.idle": "2023-05-08T00:20:11.598663Z",
     "shell.execute_reply": "2023-05-08T00:20:11.597566Z",
     "shell.execute_reply.started": "2023-05-08T00:20:11.585863Z"
    },
    "trusted": true
   },
   "outputs": [],
   "source": [
    "model = model.cpu()"
   ]
  },
  {
   "cell_type": "code",
   "execution_count": null,
   "metadata": {
    "execution": {
     "iopub.execute_input": "2023-05-08T00:18:47.088966Z",
     "iopub.status.busy": "2023-05-08T00:18:47.088573Z",
     "iopub.status.idle": "2023-05-08T00:18:47.098228Z",
     "shell.execute_reply": "2023-05-08T00:18:47.096718Z",
     "shell.execute_reply.started": "2023-05-08T00:18:47.088935Z"
    },
    "trusted": true
   },
   "outputs": [],
   "source": [
    "loss_fn = torch.nn.CrossEntropyLoss()\n",
    "optimizer = torch.optim.Adam(model.parameters(), lr=LR)"
   ]
  },
  {
   "cell_type": "code",
   "execution_count": null,
   "metadata": {
    "trusted": true
   },
   "outputs": [],
   "source": [
    "val_one_time(model, test_dataloader, loss_fn, epoch_number=1)"
   ]
  }
 ],
 "metadata": {
  "accelerator": "GPU",
  "colab": {
   "gpuType": "T4",
   "provenance": []
  },
  "gpuClass": "standard",
  "kaggle": {
   "accelerator": "nvidiaTeslaT4",
   "dataSources": [],
   "dockerImageVersionId": 30475,
   "isGpuEnabled": true,
   "isInternetEnabled": true,
   "language": "python",
   "sourceType": "notebook"
  },
  "kernelspec": {
   "display_name": "Python 3",
   "language": "python",
   "name": "python3"
  },
  "language_info": {
   "codemirror_mode": {
    "name": "ipython",
    "version": 3
   },
   "file_extension": ".py",
   "mimetype": "text/x-python",
   "name": "python",
   "nbconvert_exporter": "python",
   "pygments_lexer": "ipython3",
   "version": "3.10.10"
  },
  "widgets": {
   "application/vnd.jupyter.widget-state+json": {
    "0efa51b6116246fcb2c602adb3bc76fa": {
     "model_module": "@jupyter-widgets/controls",
     "model_module_version": "1.5.0",
     "model_name": "HTMLModel",
     "state": {
      "_dom_classes": [],
      "_model_module": "@jupyter-widgets/controls",
      "_model_module_version": "1.5.0",
      "_model_name": "HTMLModel",
      "_view_count": null,
      "_view_module": "@jupyter-widgets/controls",
      "_view_module_version": "1.5.0",
      "_view_name": "HTMLView",
      "description": "",
      "description_tooltip": null,
      "layout": "IPY_MODEL_96d35b1981ab403788051caf4988c8ca",
      "placeholder": "​",
      "style": "IPY_MODEL_b33bde1a46304ec591defba212ce0ae5",
      "value": "  0%"
     }
    },
    "1acc083c61e94ad58ace5c31628f2842": {
     "model_module": "@jupyter-widgets/controls",
     "model_module_version": "1.5.0",
     "model_name": "ProgressStyleModel",
     "state": {
      "_model_module": "@jupyter-widgets/controls",
      "_model_module_version": "1.5.0",
      "_model_name": "ProgressStyleModel",
      "_view_count": null,
      "_view_module": "@jupyter-widgets/base",
      "_view_module_version": "1.2.0",
      "_view_name": "StyleView",
      "bar_color": null,
      "description_width": ""
     }
    },
    "24da9304d86c4070a54d0e6f60efeb70": {
     "model_module": "@jupyter-widgets/base",
     "model_module_version": "1.2.0",
     "model_name": "LayoutModel",
     "state": {
      "_model_module": "@jupyter-widgets/base",
      "_model_module_version": "1.2.0",
      "_model_name": "LayoutModel",
      "_view_count": null,
      "_view_module": "@jupyter-widgets/base",
      "_view_module_version": "1.2.0",
      "_view_name": "LayoutView",
      "align_content": null,
      "align_items": null,
      "align_self": null,
      "border": null,
      "bottom": null,
      "display": null,
      "flex": null,
      "flex_flow": null,
      "grid_area": null,
      "grid_auto_columns": null,
      "grid_auto_flow": null,
      "grid_auto_rows": null,
      "grid_column": null,
      "grid_gap": null,
      "grid_row": null,
      "grid_template_areas": null,
      "grid_template_columns": null,
      "grid_template_rows": null,
      "height": null,
      "justify_content": null,
      "justify_items": null,
      "left": null,
      "margin": null,
      "max_height": null,
      "max_width": null,
      "min_height": null,
      "min_width": null,
      "object_fit": null,
      "object_position": null,
      "order": null,
      "overflow": null,
      "overflow_x": null,
      "overflow_y": null,
      "padding": null,
      "right": null,
      "top": null,
      "visibility": null,
      "width": null
     }
    },
    "2e065d66e19d486e9f7add9c5ec8355f": {
     "model_module": "@jupyter-widgets/controls",
     "model_module_version": "1.5.0",
     "model_name": "HBoxModel",
     "state": {
      "_dom_classes": [],
      "_model_module": "@jupyter-widgets/controls",
      "_model_module_version": "1.5.0",
      "_model_name": "HBoxModel",
      "_view_count": null,
      "_view_module": "@jupyter-widgets/controls",
      "_view_module_version": "1.5.0",
      "_view_name": "HBoxView",
      "box_style": "",
      "children": [
       "IPY_MODEL_0efa51b6116246fcb2c602adb3bc76fa",
       "IPY_MODEL_750b4cc7c4934f128247890648a749ac",
       "IPY_MODEL_8d66df875fe04dcda0f21cf0c8957e6b"
      ],
      "layout": "IPY_MODEL_cb371fa307d143ec8af97156c0152418"
     }
    },
    "750b4cc7c4934f128247890648a749ac": {
     "model_module": "@jupyter-widgets/controls",
     "model_module_version": "1.5.0",
     "model_name": "FloatProgressModel",
     "state": {
      "_dom_classes": [],
      "_model_module": "@jupyter-widgets/controls",
      "_model_module_version": "1.5.0",
      "_model_name": "FloatProgressModel",
      "_view_count": null,
      "_view_module": "@jupyter-widgets/controls",
      "_view_module_version": "1.5.0",
      "_view_name": "ProgressView",
      "bar_style": "",
      "description": "",
      "description_tooltip": null,
      "layout": "IPY_MODEL_24da9304d86c4070a54d0e6f60efeb70",
      "max": 10,
      "min": 0,
      "orientation": "horizontal",
      "style": "IPY_MODEL_1acc083c61e94ad58ace5c31628f2842",
      "value": 0
     }
    },
    "79f14161d5d74268bc19b302c8150839": {
     "model_module": "@jupyter-widgets/controls",
     "model_module_version": "1.5.0",
     "model_name": "HTMLModel",
     "state": {
      "_dom_classes": [],
      "_model_module": "@jupyter-widgets/controls",
      "_model_module_version": "1.5.0",
      "_model_name": "HTMLModel",
      "_view_count": null,
      "_view_module": "@jupyter-widgets/controls",
      "_view_module_version": "1.5.0",
      "_view_name": "HTMLView",
      "description": "",
      "description_tooltip": null,
      "layout": "IPY_MODEL_eb070581512343d393e9b14ddac391ed",
      "placeholder": "​",
      "style": "IPY_MODEL_b62cc980ab8b485898e33977975c1e69",
      "value": "  2%"
     }
    },
    "8d66df875fe04dcda0f21cf0c8957e6b": {
     "model_module": "@jupyter-widgets/controls",
     "model_module_version": "1.5.0",
     "model_name": "HTMLModel",
     "state": {
      "_dom_classes": [],
      "_model_module": "@jupyter-widgets/controls",
      "_model_module_version": "1.5.0",
      "_model_name": "HTMLModel",
      "_view_count": null,
      "_view_module": "@jupyter-widgets/controls",
      "_view_module_version": "1.5.0",
      "_view_name": "HTMLView",
      "description": "",
      "description_tooltip": null,
      "layout": "IPY_MODEL_d1e41621932143559536f050068629fc",
      "placeholder": "​",
      "style": "IPY_MODEL_979a773a7d9346ae8b32ac6db417ec4e",
      "value": " 0/10 [00:00&lt;?, ?it/s]"
     }
    },
    "96d35b1981ab403788051caf4988c8ca": {
     "model_module": "@jupyter-widgets/base",
     "model_module_version": "1.2.0",
     "model_name": "LayoutModel",
     "state": {
      "_model_module": "@jupyter-widgets/base",
      "_model_module_version": "1.2.0",
      "_model_name": "LayoutModel",
      "_view_count": null,
      "_view_module": "@jupyter-widgets/base",
      "_view_module_version": "1.2.0",
      "_view_name": "LayoutView",
      "align_content": null,
      "align_items": null,
      "align_self": null,
      "border": null,
      "bottom": null,
      "display": null,
      "flex": null,
      "flex_flow": null,
      "grid_area": null,
      "grid_auto_columns": null,
      "grid_auto_flow": null,
      "grid_auto_rows": null,
      "grid_column": null,
      "grid_gap": null,
      "grid_row": null,
      "grid_template_areas": null,
      "grid_template_columns": null,
      "grid_template_rows": null,
      "height": null,
      "justify_content": null,
      "justify_items": null,
      "left": null,
      "margin": null,
      "max_height": null,
      "max_width": null,
      "min_height": null,
      "min_width": null,
      "object_fit": null,
      "object_position": null,
      "order": null,
      "overflow": null,
      "overflow_x": null,
      "overflow_y": null,
      "padding": null,
      "right": null,
      "top": null,
      "visibility": null,
      "width": null
     }
    },
    "979a773a7d9346ae8b32ac6db417ec4e": {
     "model_module": "@jupyter-widgets/controls",
     "model_module_version": "1.5.0",
     "model_name": "DescriptionStyleModel",
     "state": {
      "_model_module": "@jupyter-widgets/controls",
      "_model_module_version": "1.5.0",
      "_model_name": "DescriptionStyleModel",
      "_view_count": null,
      "_view_module": "@jupyter-widgets/base",
      "_view_module_version": "1.2.0",
      "_view_name": "StyleView",
      "description_width": ""
     }
    },
    "a0d4efd2c8a14cb3baf4fbdbed6a3527": {
     "model_module": "@jupyter-widgets/controls",
     "model_module_version": "1.5.0",
     "model_name": "DescriptionStyleModel",
     "state": {
      "_model_module": "@jupyter-widgets/controls",
      "_model_module_version": "1.5.0",
      "_model_name": "DescriptionStyleModel",
      "_view_count": null,
      "_view_module": "@jupyter-widgets/base",
      "_view_module_version": "1.2.0",
      "_view_name": "StyleView",
      "description_width": ""
     }
    },
    "b33bde1a46304ec591defba212ce0ae5": {
     "model_module": "@jupyter-widgets/controls",
     "model_module_version": "1.5.0",
     "model_name": "DescriptionStyleModel",
     "state": {
      "_model_module": "@jupyter-widgets/controls",
      "_model_module_version": "1.5.0",
      "_model_name": "DescriptionStyleModel",
      "_view_count": null,
      "_view_module": "@jupyter-widgets/base",
      "_view_module_version": "1.2.0",
      "_view_name": "StyleView",
      "description_width": ""
     }
    },
    "b62cc980ab8b485898e33977975c1e69": {
     "model_module": "@jupyter-widgets/controls",
     "model_module_version": "1.5.0",
     "model_name": "DescriptionStyleModel",
     "state": {
      "_model_module": "@jupyter-widgets/controls",
      "_model_module_version": "1.5.0",
      "_model_name": "DescriptionStyleModel",
      "_view_count": null,
      "_view_module": "@jupyter-widgets/base",
      "_view_module_version": "1.2.0",
      "_view_name": "StyleView",
      "description_width": ""
     }
    },
    "ba41922a2e7a4e44b26634fc8730b065": {
     "model_module": "@jupyter-widgets/controls",
     "model_module_version": "1.5.0",
     "model_name": "ProgressStyleModel",
     "state": {
      "_model_module": "@jupyter-widgets/controls",
      "_model_module_version": "1.5.0",
      "_model_name": "ProgressStyleModel",
      "_view_count": null,
      "_view_module": "@jupyter-widgets/base",
      "_view_module_version": "1.2.0",
      "_view_name": "StyleView",
      "bar_color": null,
      "description_width": ""
     }
    },
    "cb371fa307d143ec8af97156c0152418": {
     "model_module": "@jupyter-widgets/base",
     "model_module_version": "1.2.0",
     "model_name": "LayoutModel",
     "state": {
      "_model_module": "@jupyter-widgets/base",
      "_model_module_version": "1.2.0",
      "_model_name": "LayoutModel",
      "_view_count": null,
      "_view_module": "@jupyter-widgets/base",
      "_view_module_version": "1.2.0",
      "_view_name": "LayoutView",
      "align_content": null,
      "align_items": null,
      "align_self": null,
      "border": null,
      "bottom": null,
      "display": null,
      "flex": null,
      "flex_flow": null,
      "grid_area": null,
      "grid_auto_columns": null,
      "grid_auto_flow": null,
      "grid_auto_rows": null,
      "grid_column": null,
      "grid_gap": null,
      "grid_row": null,
      "grid_template_areas": null,
      "grid_template_columns": null,
      "grid_template_rows": null,
      "height": null,
      "justify_content": null,
      "justify_items": null,
      "left": null,
      "margin": null,
      "max_height": null,
      "max_width": null,
      "min_height": null,
      "min_width": null,
      "object_fit": null,
      "object_position": null,
      "order": null,
      "overflow": null,
      "overflow_x": null,
      "overflow_y": null,
      "padding": null,
      "right": null,
      "top": null,
      "visibility": null,
      "width": null
     }
    },
    "d01311091a2b4405b1ec85fc6dac0338": {
     "model_module": "@jupyter-widgets/controls",
     "model_module_version": "1.5.0",
     "model_name": "HTMLModel",
     "state": {
      "_dom_classes": [],
      "_model_module": "@jupyter-widgets/controls",
      "_model_module_version": "1.5.0",
      "_model_name": "HTMLModel",
      "_view_count": null,
      "_view_module": "@jupyter-widgets/controls",
      "_view_module_version": "1.5.0",
      "_view_name": "HTMLView",
      "description": "",
      "description_tooltip": null,
      "layout": "IPY_MODEL_ef3f7f8df55b49deb62532afe39ccb40",
      "placeholder": "​",
      "style": "IPY_MODEL_a0d4efd2c8a14cb3baf4fbdbed6a3527",
      "value": " 8/375 [00:59&lt;41:37,  6.80s/it]"
     }
    },
    "d1e41621932143559536f050068629fc": {
     "model_module": "@jupyter-widgets/base",
     "model_module_version": "1.2.0",
     "model_name": "LayoutModel",
     "state": {
      "_model_module": "@jupyter-widgets/base",
      "_model_module_version": "1.2.0",
      "_model_name": "LayoutModel",
      "_view_count": null,
      "_view_module": "@jupyter-widgets/base",
      "_view_module_version": "1.2.0",
      "_view_name": "LayoutView",
      "align_content": null,
      "align_items": null,
      "align_self": null,
      "border": null,
      "bottom": null,
      "display": null,
      "flex": null,
      "flex_flow": null,
      "grid_area": null,
      "grid_auto_columns": null,
      "grid_auto_flow": null,
      "grid_auto_rows": null,
      "grid_column": null,
      "grid_gap": null,
      "grid_row": null,
      "grid_template_areas": null,
      "grid_template_columns": null,
      "grid_template_rows": null,
      "height": null,
      "justify_content": null,
      "justify_items": null,
      "left": null,
      "margin": null,
      "max_height": null,
      "max_width": null,
      "min_height": null,
      "min_width": null,
      "object_fit": null,
      "object_position": null,
      "order": null,
      "overflow": null,
      "overflow_x": null,
      "overflow_y": null,
      "padding": null,
      "right": null,
      "top": null,
      "visibility": null,
      "width": null
     }
    },
    "db42e61d77e34cd688cdcb32a4cd19a5": {
     "model_module": "@jupyter-widgets/base",
     "model_module_version": "1.2.0",
     "model_name": "LayoutModel",
     "state": {
      "_model_module": "@jupyter-widgets/base",
      "_model_module_version": "1.2.0",
      "_model_name": "LayoutModel",
      "_view_count": null,
      "_view_module": "@jupyter-widgets/base",
      "_view_module_version": "1.2.0",
      "_view_name": "LayoutView",
      "align_content": null,
      "align_items": null,
      "align_self": null,
      "border": null,
      "bottom": null,
      "display": null,
      "flex": null,
      "flex_flow": null,
      "grid_area": null,
      "grid_auto_columns": null,
      "grid_auto_flow": null,
      "grid_auto_rows": null,
      "grid_column": null,
      "grid_gap": null,
      "grid_row": null,
      "grid_template_areas": null,
      "grid_template_columns": null,
      "grid_template_rows": null,
      "height": null,
      "justify_content": null,
      "justify_items": null,
      "left": null,
      "margin": null,
      "max_height": null,
      "max_width": null,
      "min_height": null,
      "min_width": null,
      "object_fit": null,
      "object_position": null,
      "order": null,
      "overflow": null,
      "overflow_x": null,
      "overflow_y": null,
      "padding": null,
      "right": null,
      "top": null,
      "visibility": null,
      "width": null
     }
    },
    "de5b55620e8a47f7b972bc5ea6181e86": {
     "model_module": "@jupyter-widgets/controls",
     "model_module_version": "1.5.0",
     "model_name": "FloatProgressModel",
     "state": {
      "_dom_classes": [],
      "_model_module": "@jupyter-widgets/controls",
      "_model_module_version": "1.5.0",
      "_model_name": "FloatProgressModel",
      "_view_count": null,
      "_view_module": "@jupyter-widgets/controls",
      "_view_module_version": "1.5.0",
      "_view_name": "ProgressView",
      "bar_style": "",
      "description": "",
      "description_tooltip": null,
      "layout": "IPY_MODEL_db42e61d77e34cd688cdcb32a4cd19a5",
      "max": 375,
      "min": 0,
      "orientation": "horizontal",
      "style": "IPY_MODEL_ba41922a2e7a4e44b26634fc8730b065",
      "value": 8
     }
    },
    "e683ef3fb32a42599d64766a19b32372": {
     "model_module": "@jupyter-widgets/controls",
     "model_module_version": "1.5.0",
     "model_name": "HBoxModel",
     "state": {
      "_dom_classes": [],
      "_model_module": "@jupyter-widgets/controls",
      "_model_module_version": "1.5.0",
      "_model_name": "HBoxModel",
      "_view_count": null,
      "_view_module": "@jupyter-widgets/controls",
      "_view_module_version": "1.5.0",
      "_view_name": "HBoxView",
      "box_style": "",
      "children": [
       "IPY_MODEL_79f14161d5d74268bc19b302c8150839",
       "IPY_MODEL_de5b55620e8a47f7b972bc5ea6181e86",
       "IPY_MODEL_d01311091a2b4405b1ec85fc6dac0338"
      ],
      "layout": "IPY_MODEL_f69452a8f3da4da6943a561ceb3e6728"
     }
    },
    "eb070581512343d393e9b14ddac391ed": {
     "model_module": "@jupyter-widgets/base",
     "model_module_version": "1.2.0",
     "model_name": "LayoutModel",
     "state": {
      "_model_module": "@jupyter-widgets/base",
      "_model_module_version": "1.2.0",
      "_model_name": "LayoutModel",
      "_view_count": null,
      "_view_module": "@jupyter-widgets/base",
      "_view_module_version": "1.2.0",
      "_view_name": "LayoutView",
      "align_content": null,
      "align_items": null,
      "align_self": null,
      "border": null,
      "bottom": null,
      "display": null,
      "flex": null,
      "flex_flow": null,
      "grid_area": null,
      "grid_auto_columns": null,
      "grid_auto_flow": null,
      "grid_auto_rows": null,
      "grid_column": null,
      "grid_gap": null,
      "grid_row": null,
      "grid_template_areas": null,
      "grid_template_columns": null,
      "grid_template_rows": null,
      "height": null,
      "justify_content": null,
      "justify_items": null,
      "left": null,
      "margin": null,
      "max_height": null,
      "max_width": null,
      "min_height": null,
      "min_width": null,
      "object_fit": null,
      "object_position": null,
      "order": null,
      "overflow": null,
      "overflow_x": null,
      "overflow_y": null,
      "padding": null,
      "right": null,
      "top": null,
      "visibility": null,
      "width": null
     }
    },
    "ef3f7f8df55b49deb62532afe39ccb40": {
     "model_module": "@jupyter-widgets/base",
     "model_module_version": "1.2.0",
     "model_name": "LayoutModel",
     "state": {
      "_model_module": "@jupyter-widgets/base",
      "_model_module_version": "1.2.0",
      "_model_name": "LayoutModel",
      "_view_count": null,
      "_view_module": "@jupyter-widgets/base",
      "_view_module_version": "1.2.0",
      "_view_name": "LayoutView",
      "align_content": null,
      "align_items": null,
      "align_self": null,
      "border": null,
      "bottom": null,
      "display": null,
      "flex": null,
      "flex_flow": null,
      "grid_area": null,
      "grid_auto_columns": null,
      "grid_auto_flow": null,
      "grid_auto_rows": null,
      "grid_column": null,
      "grid_gap": null,
      "grid_row": null,
      "grid_template_areas": null,
      "grid_template_columns": null,
      "grid_template_rows": null,
      "height": null,
      "justify_content": null,
      "justify_items": null,
      "left": null,
      "margin": null,
      "max_height": null,
      "max_width": null,
      "min_height": null,
      "min_width": null,
      "object_fit": null,
      "object_position": null,
      "order": null,
      "overflow": null,
      "overflow_x": null,
      "overflow_y": null,
      "padding": null,
      "right": null,
      "top": null,
      "visibility": null,
      "width": null
     }
    },
    "f69452a8f3da4da6943a561ceb3e6728": {
     "model_module": "@jupyter-widgets/base",
     "model_module_version": "1.2.0",
     "model_name": "LayoutModel",
     "state": {
      "_model_module": "@jupyter-widgets/base",
      "_model_module_version": "1.2.0",
      "_model_name": "LayoutModel",
      "_view_count": null,
      "_view_module": "@jupyter-widgets/base",
      "_view_module_version": "1.2.0",
      "_view_name": "LayoutView",
      "align_content": null,
      "align_items": null,
      "align_self": null,
      "border": null,
      "bottom": null,
      "display": null,
      "flex": null,
      "flex_flow": null,
      "grid_area": null,
      "grid_auto_columns": null,
      "grid_auto_flow": null,
      "grid_auto_rows": null,
      "grid_column": null,
      "grid_gap": null,
      "grid_row": null,
      "grid_template_areas": null,
      "grid_template_columns": null,
      "grid_template_rows": null,
      "height": null,
      "justify_content": null,
      "justify_items": null,
      "left": null,
      "margin": null,
      "max_height": null,
      "max_width": null,
      "min_height": null,
      "min_width": null,
      "object_fit": null,
      "object_position": null,
      "order": null,
      "overflow": null,
      "overflow_x": null,
      "overflow_y": null,
      "padding": null,
      "right": null,
      "top": null,
      "visibility": null,
      "width": null
     }
    }
   }
  }
 },
 "nbformat": 4,
 "nbformat_minor": 4
}
